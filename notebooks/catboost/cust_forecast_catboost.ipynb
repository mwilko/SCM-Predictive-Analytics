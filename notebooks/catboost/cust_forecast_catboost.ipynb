{
 "cells": [
  {
   "cell_type": "markdown",
   "metadata": {},
   "source": [
    "# CatBoost (Gradient-boosting), performance between customer order quantities"
   ]
  },
  {
   "cell_type": "code",
   "execution_count": null,
   "metadata": {},
   "outputs": [],
   "source": [
    "%pip install nbformat pandas numpy matplotlib seaborn scikit-learn catboost "
   ]
  },
  {
   "cell_type": "code",
   "execution_count": null,
   "metadata": {},
   "outputs": [],
   "source": [
    "import pandas as pd\n",
    "import numpy as np\n",
    "import matplotlib.pyplot as plt\n",
    "import seaborn as sns\n",
    "from sklearn.preprocessing import StandardScaler\n",
    "from sklearn.model_selection import train_test_split"
   ]
  },
  {
   "cell_type": "code",
   "execution_count": null,
   "metadata": {},
   "outputs": [],
   "source": [
    "import sys\n",
    "sys.path.append('../../src')"
   ]
  },
  {
   "cell_type": "code",
   "execution_count": null,
   "metadata": {},
   "outputs": [],
   "source": [
    "from data_config import ProductHandler as ph"
   ]
  },
  {
   "cell_type": "code",
   "execution_count": null,
   "metadata": {},
   "outputs": [],
   "source": [
    "ph.custom_prod_set()"
   ]
  },
  {
   "cell_type": "code",
   "execution_count": null,
   "metadata": {},
   "outputs": [],
   "source": [
    "# define the features and target variable from 'product_sales'\n",
    "# CHANGE THE CUSTOMER CODE HERE >>>>>>>>>>\n",
    "custom_code_df = pd.DataFrame(ph.get_custom_code_data('FRE'))\n",
    "\n",
    "# customer code for later referencing\n",
    "custom_ref = custom_code_df.loc[0, 'ProductNumber'][:3].lower().upper()\n",
    "print(custom_ref)\n",
    "\n",
    "custom_code_df.head()"
   ]
  },
  {
   "cell_type": "code",
   "execution_count": null,
   "metadata": {},
   "outputs": [],
   "source": [
    "from app_utils import Transform as trans\n",
    "from model_utils import *\n",
    "from sklearn.pipeline import Pipeline"
   ]
  },
  {
   "cell_type": "code",
   "execution_count": null,
   "metadata": {},
   "outputs": [],
   "source": [
    "# Compute OrderQuantity values with a zscore with threshold of 3 and remove them (Outlier removal)\n",
    "custom_code_df = trans.compute_zscore(custom_code_df)\n",
    "\n",
    "custom_code_df.head()"
   ]
  },
  {
   "cell_type": "code",
   "execution_count": null,
   "metadata": {},
   "outputs": [],
   "source": [
    "X = custom_code_df.drop('OrderQuantity', axis=1)\n",
    "y = custom_code_df.OrderQuantity"
   ]
  },
  {
   "cell_type": "code",
   "execution_count": null,
   "metadata": {},
   "outputs": [],
   "source": [
    "# Trian and transforms data (CatBoost transforms natively so might not need to transform)\n",
    "X_train, X_val, y_train, y_val = train_test_split(X, y, test_size=0.2, random_state=42)\n",
    "\n",
    "# X_train_preprocessed, X_val_preprocessed = trans.transform_data(X_train, X_val, X)"
   ]
  },
  {
   "cell_type": "code",
   "execution_count": null,
   "metadata": {},
   "outputs": [],
   "source": [
    "from catboost import CatBoostRegressor"
   ]
  },
  {
   "cell_type": "code",
   "execution_count": null,
   "metadata": {},
   "outputs": [],
   "source": [
    "catb_params = find_best_hyperparameters(CatBoostRegressor(), param_grids(CatBoostRegressor().__class__.__name__), X_train, y_train)"
   ]
  },
  {
   "cell_type": "code",
   "execution_count": null,
   "metadata": {},
   "outputs": [],
   "source": [
    "# Train and get metric scores of CatBoost with best parameters\n",
    "catb_params = CatBoostRegressor(**catb_params)\n",
    "\n",
    "catb_params.fit(X_train, y_train)\n",
    "\n",
    "print('----------- TRAINING METRICS -----------')\n",
    "train_metrics = evaluate_model(catb_params, X_train, y_train)\n",
    "print('\\n\\n')\n",
    "print('----------- TESTING METRICS -----------')\n",
    "test_metrics = evaluate_model(catb_params, X_val, y_val)"
   ]
  },
  {
   "cell_type": "code",
   "execution_count": null,
   "metadata": {},
   "outputs": [],
   "source": [
    "# Get model predictions\n",
    "y_train_pred = catb_params.predict(X_train)\n",
    "y_val_pred = catb_params.predict(X_val)"
   ]
  },
  {
   "cell_type": "code",
   "execution_count": null,
   "metadata": {},
   "outputs": [],
   "source": [
    "# Create a DetailedOrderDate column using week and weekday information.\n",
    "custom_code_df['DetailedOrderDate'] = pd.to_datetime(\n",
    "    custom_code_df['order_year'].astype(str) +\n",
    "    custom_code_df['order_week'].astype(str).str.zfill(2) +\n",
    "    custom_code_df['order_weekday'].astype(str),\n",
    "    format='%Y%W%w'\n",
    ")"
   ]
  },
  {
   "cell_type": "code",
   "execution_count": null,
   "metadata": {},
   "outputs": [],
   "source": [
    "# Create subplots (2 rows, 2 columns: one for line plot, one for residual plot)\n",
    "fig, axes = plt.subplots(nrows=2, ncols=2, figsize=(18, 12)) \n",
    "fig.subplots_adjust(hspace=0.5, wspace=0.4)\n",
    "\n",
    "# Time Series Comparison\n",
    "sns.lineplot(x=custom_code_df.loc[y_val.index, 'OrderDate'], y=y_val, label='Actual', ax=axes[0, 0])\n",
    "sns.lineplot(x=custom_code_df.loc[y_val.index, 'OrderDate'], y=y_val_pred, label='Predicted', ax=axes[0, 0])\n",
    "axes[0, 0].set_title(f'{custom_ref} Neural Network - Time Series', fontsize=16)\n",
    "axes[0, 0].set_xlabel('Date', fontsize=14)  \n",
    "axes[0, 0].set_ylabel('Order Quantity', fontsize=14)\n",
    "\n",
    "# Residual Plot\n",
    "residuals = y_val - y_val_pred\n",
    "sns.scatterplot(x=y_val_pred, y=residuals, alpha=0.6, ax=axes[0, 1])\n",
    "axes[0, 1].axhline(0, color='r', linestyle='--')\n",
    "axes[0, 1].set_title(f'{custom_ref} Neural Network - Residuals', fontsize=16)  \n",
    "axes[0, 1].set_xlabel('Predicted Values', fontsize=14)  \n",
    "axes[0, 1].set_ylabel('Scaled Residuals', fontsize=14)\n",
    "\n",
    "# Actual vs Predicted Scatter Plot\n",
    "min_val = min(y_val.min(), y_val_pred.min())\n",
    "max_val = max(y_val.max(), y_val_pred.max())\n",
    "sns.scatterplot(x=y_val, y=y_val_pred, alpha=0.6, ax=axes[1, 0], label='Predicted')\n",
    "axes[1, 0].plot([min_val, max_val], [min_val, max_val], 'r--', linewidth=1)  # Reference line\n",
    "axes[1, 0].set_title(f'{custom_ref} Neural Network - Accuracy', fontsize=16)\n",
    "axes[1, 0].set_xlabel('Actual Values', fontsize=14)\n",
    "axes[1, 0].set_ylabel('Predicted Values', fontsize=14)  \n",
    "axes[1, 0].legend(fontsize=12)\n",
    "\n",
    "# Monthly Trend Comparison\n",
    "monthly_data = custom_code_df[['order_month']].loc[custom_code_df.index.intersection(X_val.index)].copy()\n",
    "monthly_data['Actual'] = y_val\n",
    "monthly_data['Predicted'] = y_val_pred\n",
    "\n",
    "sns.lineplot(x='order_month', y='Predicted', data=monthly_data, label='Predicted', ax=axes[1, 1])\n",
    "sns.lineplot(x='order_month', y='Actual', data=monthly_data, label='Actual', ax=axes[1, 1], color='black', linestyle='--')\n",
    "axes[1, 1].set_title(f'{custom_ref} Neural Network - Monthly Trend Comparison (2022-2025)', fontsize=16)  \n",
    "axes[1, 1].set_xlabel('Month', fontsize=14)\n",
    "axes[1, 1].set_ylabel('Order Quantity', fontsize=14)\n",
    "\n",
    "# Adjust x-tick labels\n",
    "plt.setp(axes[0, 0].get_xticklabels(), rotation=45, ha='right', fontsize=12)\n",
    "plt.setp(axes[1, 1].get_xticklabels(), rotation=45, ha='right', fontsize=12)\n",
    "\n",
    "plt.tight_layout()\n",
    "plt.show()"
   ]
  }
 ],
 "metadata": {
  "kernelspec": {
   "display_name": "tf_env",
   "language": "python",
   "name": "python3"
  },
  "language_info": {
   "name": "python",
   "version": "3.11.0"
  }
 },
 "nbformat": 4,
 "nbformat_minor": 2
}
