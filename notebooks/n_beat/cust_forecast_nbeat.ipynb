{
 "cells": [
  {
   "cell_type": "markdown",
   "metadata": {},
   "source": [
    "# Seperating stock to forcast for certain dates depending on the product"
   ]
  },
  {
   "cell_type": "code",
   "execution_count": null,
   "metadata": {},
   "outputs": [],
   "source": [
    "%pip install nbformat pandas numpy matplotlib seaborn scikit-learn dart "
   ]
  },
  {
   "cell_type": "code",
   "execution_count": null,
   "metadata": {},
   "outputs": [],
   "source": [
    "import pandas as pd\n",
    "import numpy as np\n",
    "import matplotlib.pyplot as plt\n",
    "import seaborn as sns\n",
    "from sklearn.preprocessing import StandardScaler\n",
    "from sklearn.model_selection import train_test_split"
   ]
  },
  {
   "cell_type": "code",
   "execution_count": null,
   "metadata": {},
   "outputs": [],
   "source": [
    "import sys\n",
    "sys.path.append('../../src')"
   ]
  },
  {
   "cell_type": "code",
   "execution_count": null,
   "metadata": {},
   "outputs": [],
   "source": [
    "from data_config import ProductHandler as ph"
   ]
  },
  {
   "cell_type": "code",
   "execution_count": null,
   "metadata": {},
   "outputs": [],
   "source": [
    "ph.custom_prod_set()"
   ]
  },
  {
   "cell_type": "code",
   "execution_count": null,
   "metadata": {},
   "outputs": [],
   "source": [
    "# define the features and target variable from 'product_sales'\n",
    "# CHANGE THE CUSTOMER CODE HERE >>>>>>>>>>\n",
    "custom_code_df = pd.DataFrame(ph.get_custom_code_data('ALB'))\n",
    "\n",
    "# customer code for later referencing\n",
    "custom_ref = custom_code_df.loc[0, 'ProductNumber'][:3].lower().upper()\n",
    "print(custom_ref)\n",
    "\n",
    "custom_code_df.head()"
   ]
  },
  {
   "cell_type": "code",
   "execution_count": null,
   "metadata": {},
   "outputs": [],
   "source": [
    "from app_utils import Transform as trans\n",
    "from model_utils import *\n",
    "from sklearn.pipeline import Pipeline"
   ]
  },
  {
   "cell_type": "code",
   "execution_count": null,
   "metadata": {},
   "outputs": [],
   "source": [
    "# Compute OrderQuantity values with a zscore with threshold of 3 and remove them (Outlier removal)\n",
    "custom_code_df = trans.compute_zscore(custom_code_df)\n",
    "\n",
    "custom_code_df.head()"
   ]
  },
  {
   "cell_type": "code",
   "execution_count": null,
   "metadata": {},
   "outputs": [],
   "source": [
    "X = custom_code_df.drop('OrderQuantity', axis=1)\n",
    "y = custom_code_df.OrderQuantity"
   ]
  },
  {
   "cell_type": "code",
   "execution_count": null,
   "metadata": {},
   "outputs": [],
   "source": [
    "# Trian and transforms data (CatBoost transforms natively so might not need to transform)\n",
    "X_train, X_val, y_train, y_val = train_test_split(X, y, test_size=0.2, random_state=42)\n",
    "\n",
    "X_train_preprocessed, X_val_preprocessed = trans.transform_data(X_train, X_val, X)"
   ]
  },
  {
   "cell_type": "code",
   "execution_count": null,
   "metadata": {},
   "outputs": [],
   "source": [
    "nbeat_params = find_best_hyperparameters(NBEATSModel(), param_grids(NBEATSModel().__class__.__name__), X_train_preprocessed, y_train)"
   ]
  },
  {
   "cell_type": "code",
   "execution_count": null,
   "metadata": {},
   "outputs": [],
   "source": [
    "nbeat_tuned = NBEATSModel(**nbeat_params)"
   ]
  },
  {
   "cell_type": "code",
   "execution_count": null,
   "metadata": {},
   "outputs": [],
   "source": [
    "nbeat_tuned.fit(X_train, y_train)\n",
    "\n",
    "print('----------- TRAINING METRICS -----------')\n",
    "train_metrics = evaluate_model(nbeat_tuned, X_train, y_train)\n",
    "print('\\n\\n')\n",
    "print('----------- TESTING METRICS -----------')\n",
    "test_metrics = evaluate_model(nbeat_tuned, X_val, y_val)"
   ]
  }
 ],
 "metadata": {
  "kernelspec": {
   "display_name": "3.11.0",
   "language": "python",
   "name": "python3"
  },
  "language_info": {
   "name": "python",
   "version": "3.11.0"
  }
 },
 "nbformat": 4,
 "nbformat_minor": 2
}
