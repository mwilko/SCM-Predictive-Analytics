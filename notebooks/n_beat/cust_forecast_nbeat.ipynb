{
 "cells": [
  {
   "cell_type": "markdown",
   "metadata": {},
   "source": [
    "# Seperating stock to forcast for certain dates depending on the product"
   ]
  },
  {
   "cell_type": "code",
   "execution_count": 1,
   "metadata": {},
   "outputs": [
    {
     "name": "stdout",
     "output_type": "stream",
     "text": [
      "Requirement already satisfied: nbformat in /Users/mwilko777/.pyenv/versions/3.11.0/lib/python3.11/site-packages (5.10.4)\n",
      "Requirement already satisfied: pandas in /Users/mwilko777/.pyenv/versions/3.11.0/lib/python3.11/site-packages (2.2.0)\n",
      "Requirement already satisfied: numpy in /Users/mwilko777/.pyenv/versions/3.11.0/lib/python3.11/site-packages (1.26.4)\n",
      "Requirement already satisfied: matplotlib in /Users/mwilko777/.pyenv/versions/3.11.0/lib/python3.11/site-packages (3.8.2)\n",
      "Requirement already satisfied: seaborn in /Users/mwilko777/.pyenv/versions/3.11.0/lib/python3.11/site-packages (0.13.2)\n",
      "Requirement already satisfied: scikit-learn in /Users/mwilko777/.pyenv/versions/3.11.0/lib/python3.11/site-packages (1.6.1)\n",
      "Requirement already satisfied: darts in /Users/mwilko777/.pyenv/versions/3.11.0/lib/python3.11/site-packages (0.34.0)\n",
      "Requirement already satisfied: fastjsonschema>=2.15 in /Users/mwilko777/.pyenv/versions/3.11.0/lib/python3.11/site-packages (from nbformat) (2.20.0)\n",
      "Requirement already satisfied: jsonschema>=2.6 in /Users/mwilko777/.pyenv/versions/3.11.0/lib/python3.11/site-packages (from nbformat) (4.23.0)\n",
      "Requirement already satisfied: jupyter-core!=5.0.*,>=4.12 in /Users/mwilko777/.pyenv/versions/3.11.0/lib/python3.11/site-packages (from nbformat) (5.7.2)\n",
      "Requirement already satisfied: traitlets>=5.1 in /Users/mwilko777/.pyenv/versions/3.11.0/lib/python3.11/site-packages (from nbformat) (5.14.1)\n",
      "Requirement already satisfied: python-dateutil>=2.8.2 in /Users/mwilko777/.pyenv/versions/3.11.0/lib/python3.11/site-packages (from pandas) (2.8.2)\n",
      "Requirement already satisfied: pytz>=2020.1 in /Users/mwilko777/.pyenv/versions/3.11.0/lib/python3.11/site-packages (from pandas) (2024.1)\n",
      "Requirement already satisfied: tzdata>=2022.7 in /Users/mwilko777/.pyenv/versions/3.11.0/lib/python3.11/site-packages (from pandas) (2023.4)\n",
      "Requirement already satisfied: contourpy>=1.0.1 in /Users/mwilko777/.pyenv/versions/3.11.0/lib/python3.11/site-packages (from matplotlib) (1.2.0)\n",
      "Requirement already satisfied: cycler>=0.10 in /Users/mwilko777/.pyenv/versions/3.11.0/lib/python3.11/site-packages (from matplotlib) (0.12.1)\n",
      "Requirement already satisfied: fonttools>=4.22.0 in /Users/mwilko777/.pyenv/versions/3.11.0/lib/python3.11/site-packages (from matplotlib) (4.47.2)\n",
      "Requirement already satisfied: kiwisolver>=1.3.1 in /Users/mwilko777/.pyenv/versions/3.11.0/lib/python3.11/site-packages (from matplotlib) (1.4.5)\n",
      "Requirement already satisfied: packaging>=20.0 in /Users/mwilko777/.pyenv/versions/3.11.0/lib/python3.11/site-packages (from matplotlib) (23.2)\n",
      "Requirement already satisfied: pillow>=8 in /Users/mwilko777/.pyenv/versions/3.11.0/lib/python3.11/site-packages (from matplotlib) (10.2.0)\n",
      "Requirement already satisfied: pyparsing>=2.3.1 in /Users/mwilko777/.pyenv/versions/3.11.0/lib/python3.11/site-packages (from matplotlib) (3.1.1)\n",
      "Requirement already satisfied: scipy>=1.6.0 in /Users/mwilko777/.pyenv/versions/3.11.0/lib/python3.11/site-packages (from scikit-learn) (1.14.0)\n",
      "Requirement already satisfied: joblib>=1.2.0 in /Users/mwilko777/.pyenv/versions/3.11.0/lib/python3.11/site-packages (from scikit-learn) (1.4.2)\n",
      "Requirement already satisfied: threadpoolctl>=3.1.0 in /Users/mwilko777/.pyenv/versions/3.11.0/lib/python3.11/site-packages (from scikit-learn) (3.5.0)\n",
      "Requirement already satisfied: holidays>=0.11.1 in /Users/mwilko777/.pyenv/versions/3.11.0/lib/python3.11/site-packages (from darts) (0.69)\n",
      "Requirement already satisfied: narwhals>=1.25.1 in /Users/mwilko777/.pyenv/versions/3.11.0/lib/python3.11/site-packages (from darts) (1.31.0)\n",
      "Requirement already satisfied: nfoursid>=1.0.0 in /Users/mwilko777/.pyenv/versions/3.11.0/lib/python3.11/site-packages (from darts) (1.0.1)\n",
      "Requirement already satisfied: pmdarima>=1.8.0 in /Users/mwilko777/.pyenv/versions/3.11.0/lib/python3.11/site-packages (from darts) (2.0.4)\n",
      "Requirement already satisfied: pyod>=0.9.5 in /Users/mwilko777/.pyenv/versions/3.11.0/lib/python3.11/site-packages (from darts) (2.0.3)\n",
      "Requirement already satisfied: requests>=2.22.0 in /Users/mwilko777/.pyenv/versions/3.11.0/lib/python3.11/site-packages (from darts) (2.31.0)\n",
      "Requirement already satisfied: shap>=0.40.0 in /Users/mwilko777/.pyenv/versions/3.11.0/lib/python3.11/site-packages (from darts) (0.47.0)\n",
      "Requirement already satisfied: statsforecast>=1.4 in /Users/mwilko777/.pyenv/versions/3.11.0/lib/python3.11/site-packages (from darts) (2.0.1)\n",
      "Requirement already satisfied: statsmodels>=0.14.0 in /Users/mwilko777/.pyenv/versions/3.11.0/lib/python3.11/site-packages (from darts) (0.14.2)\n",
      "Requirement already satisfied: tbats>=1.1.0 in /Users/mwilko777/.pyenv/versions/3.11.0/lib/python3.11/site-packages (from darts) (1.1.3)\n",
      "Requirement already satisfied: tqdm>=4.60.0 in /Users/mwilko777/.pyenv/versions/3.11.0/lib/python3.11/site-packages (from darts) (4.67.1)\n",
      "Requirement already satisfied: typing-extensions in /Users/mwilko777/.pyenv/versions/3.11.0/lib/python3.11/site-packages (from darts) (4.12.2)\n",
      "Requirement already satisfied: xarray>=0.17.0 in /Users/mwilko777/.pyenv/versions/3.11.0/lib/python3.11/site-packages (from darts) (2025.3.0)\n",
      "Requirement already satisfied: xgboost>=2.1.4 in /Users/mwilko777/.pyenv/versions/3.11.0/lib/python3.11/site-packages (from darts) (2.1.4)\n",
      "Requirement already satisfied: pytorch-lightning>=1.5.0 in /Users/mwilko777/.pyenv/versions/3.11.0/lib/python3.11/site-packages (from darts) (2.5.1)\n",
      "Requirement already satisfied: tensorboardX>=2.1 in /Users/mwilko777/.pyenv/versions/3.11.0/lib/python3.11/site-packages (from darts) (2.6.2.2)\n",
      "Requirement already satisfied: torch>=1.8.0 in /Users/mwilko777/.pyenv/versions/3.11.0/lib/python3.11/site-packages (from darts) (2.2.0)\n",
      "Requirement already satisfied: attrs>=22.2.0 in /Users/mwilko777/.pyenv/versions/3.11.0/lib/python3.11/site-packages (from jsonschema>=2.6->nbformat) (23.2.0)\n",
      "Requirement already satisfied: jsonschema-specifications>=2023.03.6 in /Users/mwilko777/.pyenv/versions/3.11.0/lib/python3.11/site-packages (from jsonschema>=2.6->nbformat) (2023.12.1)\n",
      "Requirement already satisfied: referencing>=0.28.4 in /Users/mwilko777/.pyenv/versions/3.11.0/lib/python3.11/site-packages (from jsonschema>=2.6->nbformat) (0.35.1)\n",
      "Requirement already satisfied: rpds-py>=0.7.1 in /Users/mwilko777/.pyenv/versions/3.11.0/lib/python3.11/site-packages (from jsonschema>=2.6->nbformat) (0.20.0)\n",
      "Requirement already satisfied: platformdirs>=2.5 in /Users/mwilko777/.pyenv/versions/3.11.0/lib/python3.11/site-packages (from jupyter-core!=5.0.*,>=4.12->nbformat) (3.11.0)\n",
      "Requirement already satisfied: Cython!=0.29.18,!=0.29.31,>=0.29 in /Users/mwilko777/.pyenv/versions/3.11.0/lib/python3.11/site-packages (from pmdarima>=1.8.0->darts) (3.0.12)\n",
      "Requirement already satisfied: urllib3 in /Users/mwilko777/.pyenv/versions/3.11.0/lib/python3.11/site-packages (from pmdarima>=1.8.0->darts) (2.2.0)\n",
      "Requirement already satisfied: setuptools!=50.0.0,>=38.6.0 in /Users/mwilko777/.pyenv/versions/3.11.0/lib/python3.11/site-packages (from pmdarima>=1.8.0->darts) (65.5.0)\n",
      "Requirement already satisfied: numba>=0.51 in /Users/mwilko777/.pyenv/versions/3.11.0/lib/python3.11/site-packages (from pyod>=0.9.5->darts) (0.61.0)\n",
      "Requirement already satisfied: six>=1.5 in /Users/mwilko777/.pyenv/versions/3.11.0/lib/python3.11/site-packages (from python-dateutil>=2.8.2->pandas) (1.16.0)\n",
      "Requirement already satisfied: PyYAML>=5.4 in /Users/mwilko777/.pyenv/versions/3.11.0/lib/python3.11/site-packages (from pytorch-lightning>=1.5.0->darts) (6.0.1)\n",
      "Requirement already satisfied: fsspec>=2022.5.0 in /Users/mwilko777/.pyenv/versions/3.11.0/lib/python3.11/site-packages (from fsspec[http]>=2022.5.0->pytorch-lightning>=1.5.0->darts) (2024.2.0)\n",
      "Requirement already satisfied: torchmetrics>=0.7.0 in /Users/mwilko777/.pyenv/versions/3.11.0/lib/python3.11/site-packages (from pytorch-lightning>=1.5.0->darts) (1.7.0)\n",
      "Requirement already satisfied: lightning-utilities>=0.10.0 in /Users/mwilko777/.pyenv/versions/3.11.0/lib/python3.11/site-packages (from pytorch-lightning>=1.5.0->darts) (0.14.2)\n",
      "Requirement already satisfied: charset-normalizer<4,>=2 in /Users/mwilko777/.pyenv/versions/3.11.0/lib/python3.11/site-packages (from requests>=2.22.0->darts) (3.3.2)\n",
      "Requirement already satisfied: idna<4,>=2.5 in /Users/mwilko777/.pyenv/versions/3.11.0/lib/python3.11/site-packages (from requests>=2.22.0->darts) (3.6)\n",
      "Requirement already satisfied: certifi>=2017.4.17 in /Users/mwilko777/.pyenv/versions/3.11.0/lib/python3.11/site-packages (from requests>=2.22.0->darts) (2024.2.2)\n",
      "Requirement already satisfied: slicer==0.0.8 in /Users/mwilko777/.pyenv/versions/3.11.0/lib/python3.11/site-packages (from shap>=0.40.0->darts) (0.0.8)\n",
      "Requirement already satisfied: cloudpickle in /Users/mwilko777/.pyenv/versions/3.11.0/lib/python3.11/site-packages (from shap>=0.40.0->darts) (3.1.1)\n",
      "Requirement already satisfied: coreforecast>=0.0.12 in /Users/mwilko777/.pyenv/versions/3.11.0/lib/python3.11/site-packages (from statsforecast>=1.4->darts) (0.0.15)\n",
      "Requirement already satisfied: fugue>=0.8.1 in /Users/mwilko777/.pyenv/versions/3.11.0/lib/python3.11/site-packages (from statsforecast>=1.4->darts) (0.9.1)\n",
      "Requirement already satisfied: utilsforecast>=0.1.4 in /Users/mwilko777/.pyenv/versions/3.11.0/lib/python3.11/site-packages (from statsforecast>=1.4->darts) (0.2.12)\n",
      "Requirement already satisfied: patsy>=0.5.6 in /Users/mwilko777/.pyenv/versions/3.11.0/lib/python3.11/site-packages (from statsmodels>=0.14.0->darts) (0.5.6)\n",
      "Requirement already satisfied: protobuf>=3.20 in /Users/mwilko777/.pyenv/versions/3.11.0/lib/python3.11/site-packages (from tensorboardX>=2.1->darts) (3.20.3)\n",
      "Requirement already satisfied: filelock in /Users/mwilko777/.pyenv/versions/3.11.0/lib/python3.11/site-packages (from torch>=1.8.0->darts) (3.13.1)\n",
      "Requirement already satisfied: sympy in /Users/mwilko777/.pyenv/versions/3.11.0/lib/python3.11/site-packages (from torch>=1.8.0->darts) (1.12)\n",
      "Requirement already satisfied: networkx in /Users/mwilko777/.pyenv/versions/3.11.0/lib/python3.11/site-packages (from torch>=1.8.0->darts) (3.2.1)\n",
      "Requirement already satisfied: jinja2 in /Users/mwilko777/.pyenv/versions/3.11.0/lib/python3.11/site-packages (from torch>=1.8.0->darts) (3.1.3)\n",
      "Requirement already satisfied: aiohttp!=4.0.0a0,!=4.0.0a1 in /Users/mwilko777/.pyenv/versions/3.11.0/lib/python3.11/site-packages (from fsspec[http]>=2022.5.0->pytorch-lightning>=1.5.0->darts) (3.11.14)\n",
      "Requirement already satisfied: triad>=0.9.7 in /Users/mwilko777/.pyenv/versions/3.11.0/lib/python3.11/site-packages (from fugue>=0.8.1->statsforecast>=1.4->darts) (0.9.8)\n",
      "Requirement already satisfied: adagio>=0.2.4 in /Users/mwilko777/.pyenv/versions/3.11.0/lib/python3.11/site-packages (from fugue>=0.8.1->statsforecast>=1.4->darts) (0.2.6)\n",
      "Requirement already satisfied: llvmlite<0.45,>=0.44.0dev0 in /Users/mwilko777/.pyenv/versions/3.11.0/lib/python3.11/site-packages (from numba>=0.51->pyod>=0.9.5->darts) (0.44.0)\n",
      "Requirement already satisfied: MarkupSafe>=2.0 in /Users/mwilko777/.pyenv/versions/3.11.0/lib/python3.11/site-packages (from jinja2->torch>=1.8.0->darts) (2.1.5)\n",
      "Requirement already satisfied: mpmath>=0.19 in /Users/mwilko777/.pyenv/versions/3.11.0/lib/python3.11/site-packages (from sympy->torch>=1.8.0->darts) (1.3.0)\n",
      "Requirement already satisfied: aiohappyeyeballs>=2.3.0 in /Users/mwilko777/.pyenv/versions/3.11.0/lib/python3.11/site-packages (from aiohttp!=4.0.0a0,!=4.0.0a1->fsspec[http]>=2022.5.0->pytorch-lightning>=1.5.0->darts) (2.6.1)\n",
      "Requirement already satisfied: aiosignal>=1.1.2 in /Users/mwilko777/.pyenv/versions/3.11.0/lib/python3.11/site-packages (from aiohttp!=4.0.0a0,!=4.0.0a1->fsspec[http]>=2022.5.0->pytorch-lightning>=1.5.0->darts) (1.3.2)\n",
      "Requirement already satisfied: frozenlist>=1.1.1 in /Users/mwilko777/.pyenv/versions/3.11.0/lib/python3.11/site-packages (from aiohttp!=4.0.0a0,!=4.0.0a1->fsspec[http]>=2022.5.0->pytorch-lightning>=1.5.0->darts) (1.5.0)\n",
      "Requirement already satisfied: multidict<7.0,>=4.5 in /Users/mwilko777/.pyenv/versions/3.11.0/lib/python3.11/site-packages (from aiohttp!=4.0.0a0,!=4.0.0a1->fsspec[http]>=2022.5.0->pytorch-lightning>=1.5.0->darts) (6.2.0)\n",
      "Requirement already satisfied: propcache>=0.2.0 in /Users/mwilko777/.pyenv/versions/3.11.0/lib/python3.11/site-packages (from aiohttp!=4.0.0a0,!=4.0.0a1->fsspec[http]>=2022.5.0->pytorch-lightning>=1.5.0->darts) (0.3.0)\n",
      "Requirement already satisfied: yarl<2.0,>=1.17.0 in /Users/mwilko777/.pyenv/versions/3.11.0/lib/python3.11/site-packages (from aiohttp!=4.0.0a0,!=4.0.0a1->fsspec[http]>=2022.5.0->pytorch-lightning>=1.5.0->darts) (1.18.3)\n",
      "Requirement already satisfied: pyarrow>=6.0.1 in /Users/mwilko777/.pyenv/versions/3.11.0/lib/python3.11/site-packages (from triad>=0.9.7->fugue>=0.8.1->statsforecast>=1.4->darts) (17.0.0)\n",
      "Requirement already satisfied: fs in /Users/mwilko777/.pyenv/versions/3.11.0/lib/python3.11/site-packages (from triad>=0.9.7->fugue>=0.8.1->statsforecast>=1.4->darts) (2.4.16)\n",
      "Requirement already satisfied: appdirs~=1.4.3 in /Users/mwilko777/.pyenv/versions/3.11.0/lib/python3.11/site-packages (from fs->triad>=0.9.7->fugue>=0.8.1->statsforecast>=1.4->darts) (1.4.4)\n",
      "\n",
      "\u001b[1m[\u001b[0m\u001b[34;49mnotice\u001b[0m\u001b[1;39;49m]\u001b[0m\u001b[39;49m A new release of pip is available: \u001b[0m\u001b[31;49m24.1.1\u001b[0m\u001b[39;49m -> \u001b[0m\u001b[32;49m25.0.1\u001b[0m\n",
      "\u001b[1m[\u001b[0m\u001b[34;49mnotice\u001b[0m\u001b[1;39;49m]\u001b[0m\u001b[39;49m To update, run: \u001b[0m\u001b[32;49mpip install --upgrade pip\u001b[0m\n",
      "Note: you may need to restart the kernel to use updated packages.\n"
     ]
    }
   ],
   "source": [
    "%pip install nbformat pandas numpy matplotlib seaborn scikit-learn darts "
   ]
  },
  {
   "cell_type": "code",
   "execution_count": null,
   "metadata": {},
   "outputs": [],
   "source": [
    "import pandas as pd\n",
    "import numpy as np\n",
    "import matplotlib.pyplot as plt\n",
    "import seaborn as sns\n",
    "from sklearn.preprocessing import StandardScaler\n",
    "from sklearn.model_selection import train_test_split"
   ]
  },
  {
   "cell_type": "code",
   "execution_count": null,
   "metadata": {},
   "outputs": [],
   "source": [
    "import sys\n",
    "sys.path.append('../../src')"
   ]
  },
  {
   "cell_type": "code",
   "execution_count": null,
   "metadata": {},
   "outputs": [],
   "source": [
    "from data_config import ProductHandler as ph"
   ]
  },
  {
   "cell_type": "code",
   "execution_count": null,
   "metadata": {},
   "outputs": [],
   "source": [
    "ph.custom_prod_set()"
   ]
  },
  {
   "cell_type": "code",
   "execution_count": null,
   "metadata": {},
   "outputs": [],
   "source": [
    "# define the features and target variable from 'product_sales'\n",
    "# CHANGE THE CUSTOMER CODE HERE >>>>>>>>>>\n",
    "custom_code_df = pd.DataFrame(ph.get_custom_code_data('ALB'))\n",
    "\n",
    "# customer code for later referencing\n",
    "custom_ref = custom_code_df.loc[0, 'ProductNumber'][:3].lower().upper()\n",
    "print(custom_ref)\n",
    "\n",
    "custom_code_df.head()"
   ]
  },
  {
   "cell_type": "code",
   "execution_count": null,
   "metadata": {},
   "outputs": [],
   "source": [
    "from app_utils import Transform as trans\n",
    "from model_utils import *\n",
    "from sklearn.pipeline import Pipeline\n",
    "\n",
    "# Main imports for N-BEAT model\n",
    "from darts import TimeSeries\n",
    "from darts.dataprocessing.transformers import Scaler\n",
    "from darts.utils.timeseries_generation import datetime_attribute_timeseries"
   ]
  },
  {
   "cell_type": "code",
   "execution_count": null,
   "metadata": {},
   "outputs": [],
   "source": [
    "# Compute OrderQuantity values with a zscore with threshold of 3 and remove them (Outlier removal)\n",
    "custom_code_df = trans.compute_zscore(custom_code_df)\n",
    "\n",
    "# Ensure datetime col is formatted properly since model is a time series\n",
    "custom_code_df[\"OrderDate\"] = pd.to_datetime(custom_code_df[\"OrderDate\"])\n",
    "custom_code_df.head()"
   ]
  },
  {
   "cell_type": "code",
   "execution_count": null,
   "metadata": {},
   "outputs": [],
   "source": [
    "X = custom_code_df.drop('OrderQuantity', axis=1)\n",
    "y = custom_code_df.OrderQuantity"
   ]
  },
  {
   "cell_type": "code",
   "execution_count": null,
   "metadata": {},
   "outputs": [],
   "source": [
    "# Group by ProductNumber and create TimeSeries objects\n",
    "series_list = []\n",
    "covariates_list = []\n",
    "\n",
    "for product_id, group in custom_code_df.groupby(\"ProductNumber\"):\n",
    "    # Target series (OrderQuantity over time)\n",
    "    target_series = TimeSeries.from_dataframe(\n",
    "        group, \n",
    "        time_col=\"OrderDate\", \n",
    "        value_cols=y,  # 'OrderQuantity'\n",
    "        freq=\"W\"  # Weekly frequency (Can change to, 'D', 'MS', etc.)\n",
    "    )\n",
    "    \n",
    "    # Covariates (features like moving averages, prev_month_sales, etc.)\n",
    "    covariates = TimeSeries.from_dataframe(\n",
    "        group,\n",
    "        time_col=\"OrderDate\",\n",
    "        value_cols=[col for col in X if col not in ['ProductNumber', 'OrderQuantity']]\n",
    "    )\n",
    "    \n",
    "    series_list.append(target_series)\n",
    "    covariates_list.append(covariates)\n",
    "\n",
    "# Scale the data (critical for N-BEATS)\n",
    "target_scaler = Scaler()\n",
    "scaled_series = target_scaler.fit_transform(series_list)\n",
    "\n",
    "covariate_scaler = Scaler()\n",
    "scaled_covariates = covariate_scaler.fit_transform(covariates_list)"
   ]
  },
  {
   "cell_type": "code",
   "execution_count": null,
   "metadata": {},
   "outputs": [],
   "source": [
    "# Split each product's series into train/val\n",
    "train_series, val_series = [], []\n",
    "train_covariates, val_covariates = [], []\n",
    "\n",
    "for series, covariate in zip(scaled_series, scaled_covariates):\n",
    "    train, val = series.split_before(0.8)  # 80% training, 20% validation\n",
    "    train_cov, val_cov = covariate.split_before(0.8)\n",
    "    \n",
    "    train_series.append(train)\n",
    "    val_series.append(val)\n",
    "    train_covariates.append(train_cov)\n",
    "    val_covariates.append(val_cov)"
   ]
  },
  {
   "cell_type": "code",
   "execution_count": null,
   "metadata": {},
   "outputs": [],
   "source": [
    "# Once found best hyperparams, comment out and use the results to reduce compute time and resources\n",
    "nbeat_params = find_best_hyperparameters(NBEATSModel(), param_grids(NBEATSModel().__class__.__name__), X_train_preprocessed, y_train)"
   ]
  },
  {
   "cell_type": "code",
   "execution_count": null,
   "metadata": {},
   "outputs": [],
   "source": [
    "nbeat_tuned = NBEATSModel(**nbeat_params)"
   ]
  },
  {
   "cell_type": "code",
   "execution_count": null,
   "metadata": {},
   "outputs": [],
   "source": [
    "nbeat_tuned.fit(\n",
    "    series=train_series,\n",
    "    past_covariates=train_covariates, # Features known in the past (e.g., prev_month_sales)\n",
    "    val_series=val_series,\n",
    "    val_past_covariates=val_covariates,\n",
    "    verbose=True\n",
    ")"
   ]
  },
  {
   "cell_type": "code",
   "execution_count": null,
   "metadata": {},
   "outputs": [],
   "source": [
    "# Forecast for the first product\n",
    "product_idx = 0\n",
    "forecast = nbeat_tuned.predict(\n",
    "    n=len(val_series[product_idx]),  # Match validation horizon\n",
    "    series=train_series[product_idx],\n",
    "    past_covariates=train_covariates[product_idx]\n",
    ")\n",
    "\n",
    "# Inverse scaling\n",
    "forecast_unscaled = target_scaler.inverse_transform(forecast)\n",
    "actual_unscaled = target_scaler.inverse_transform(val_series[product_idx])\n",
    "\n",
    "# Plot\n",
    "train_series[product_idx].plot(label=\"Train\")\n",
    "actual_unscaled.plot(label=\"Actual\")\n",
    "forecast_unscaled.plot(label=\"Forecast\")\n",
    "plt.legend()\n",
    "plt.show()"
   ]
  },
  {
   "cell_type": "code",
   "execution_count": null,
   "metadata": {},
   "outputs": [],
   "source": [
    "# Define forecast horizon (e.g., predict next 6 months)\n",
    "HORIZON = 6  # Should match `output_chunk_length` (defined in model params)\n",
    "\n",
    "print('----------- TRAINING METRICS -----------')\n",
    "train_metrics = evaluate_timeseries(\n",
    "    model=nbeat_tuned,\n",
    "    val_series=train_series, # Training data (TimeSeries objects)\n",
    "    val_covariates=train_covariates, # Training features (TimeSeries)\n",
    "    horizon=HORIZON,\n",
    "    target_scaler=target_scaler\n",
    ")\n",
    "\n",
    "print('\\n\\n----------- TESTING METRICS -----------')\n",
    "test_metrics = evaluate_timeseries(\n",
    "    model=nbeat_tuned,\n",
    "    val_series=val_series, # Validation data (TimeSeries)\n",
    "    val_covariates=val_covariates, # Validation features (TimeSeries)\n",
    "    horizon=HORIZON,\n",
    "    target_scaler=target_scaler\n",
    ")"
   ]
  }
 ],
 "metadata": {
  "kernelspec": {
   "display_name": "3.11.0",
   "language": "python",
   "name": "python3"
  },
  "language_info": {
   "codemirror_mode": {
    "name": "ipython",
    "version": 3
   },
   "file_extension": ".py",
   "mimetype": "text/x-python",
   "name": "python",
   "nbconvert_exporter": "python",
   "pygments_lexer": "ipython3",
   "version": "3.11.0"
  }
 },
 "nbformat": 4,
 "nbformat_minor": 2
}
