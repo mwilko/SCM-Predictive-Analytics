{
 "cells": [
  {
   "cell_type": "markdown",
   "metadata": {},
   "source": [
    "# Project Results"
   ]
  },
  {
   "cell_type": "markdown",
   "metadata": {},
   "source": [
    "Random Forest with CV & param grid\n",
    "| Evaluation Metric | Model |   \n",
    "| --- | --- |\n",
    "| MAE | 132314.6619 |\n",
    "| MSE | 119097173046.2174 |\n",
    "| RMSE | 345104.5828 |\n",
    "| R2 | -0.0160 |\n",
    "\n",
    "Decision Tree with CV & param grid\n",
    "| Evaluation Metric | Model |   \n",
    "| --- | --- |\n",
    "| MAE | 136693.3517 |\n",
    "| MSE | 119292728401.4091 |\n",
    "| RMSE | 345387.7942 |\n",
    "| R2 | -0.0176 |\n",
    "\n",
    "Linear Regression with CV & param grid\n",
    "| Evaluation Metric | Model |   \n",
    "| --- | --- |\n",
    "| MAE | 147496.8376 |\n",
    "| MSE | 117239819745.6055 |\n",
    "| RMSE | 342403.0078 |\n",
    "| R2 | -0.0001 |\n",
    "\n",
    "Neural Network with CV & param grid\n",
    "| Evaluation Metric | Model |   \n",
    "| --- | --- |\n",
    "| MAE | 144850.5218 |\n",
    "| MSE | 116971938556.5415 |\n",
    "| RMSE | 342011.6059 |\n",
    "| R2 | 0.0022 |"
   ]
  },
  {
   "cell_type": "markdown",
   "metadata": {},
   "source": []
  }
 ],
 "metadata": {
  "language_info": {
   "name": "python"
  }
 },
 "nbformat": 4,
 "nbformat_minor": 2
}
